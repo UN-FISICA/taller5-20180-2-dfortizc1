{
 "cells": [
  {
   "cell_type": "code",
   "execution_count": 1,
   "metadata": {},
   "outputs": [],
   "source": [
    "%load_ext Cython"
   ]
  },
  {
   "cell_type": "code",
   "execution_count": 2,
   "metadata": {},
   "outputs": [],
   "source": [
    "from scipy.misc import imread\n",
    "import matplotlib.pyplot as plt\n",
    "import array"
   ]
  },
  {
   "cell_type": "code",
   "execution_count": 18,
   "metadata": {},
   "outputs": [
    {
     "name": "stdout",
     "output_type": "stream",
     "text": [
      "<class 'numpy.ndarray'>\n",
      "<class 'numpy.uint8'>\n",
      "<class 'numpy.ndarray'>\n",
      "<class 'numpy.int64'>\n"
     ]
    }
   ],
   "source": [
    "image = imread(\"b0.jpeg\", mode='L')\n",
    "print(type(image))\n",
    "print(type(image[0][0]))\n",
    "image1 = image.astype(int)\n",
    "print(type(image1))\n",
    "print(type(image1[0][0]))"
   ]
  },
  {
   "cell_type": "code",
   "execution_count": null,
   "metadata": {},
   "outputs": [],
   "source": [
    "%%cython\n",
    "def my_function(long[:,:] my_array):\n",
    "    print(my_array)"
   ]
  },
  {
   "cell_type": "code",
   "execution_count": null,
   "metadata": {},
   "outputs": [],
   "source": [
    "my_function(image1)"
   ]
  },
  {
   "cell_type": "code",
   "execution_count": 9,
   "metadata": {},
   "outputs": [],
   "source": [
    "%%cython\n",
    "#Esta es una función análoga a pyl.where\n",
    "def my_imbin(long[:,:]image, limit):\n",
    "    cdef int ni, nj\n",
    "    ni = image.shape[0]\n",
    "    nj = image.shape[1]\n",
    "    for i in range(ni):\n",
    "        for j in range(nj):\n",
    "            if(image[i][j] > limit):\n",
    "                image[i][j] = 255\n",
    "            else:\n",
    "                image[i][j] = 0\n",
    "    return image"
   ]
  },
  {
   "cell_type": "code",
   "execution_count": 19,
   "metadata": {},
   "outputs": [
    {
     "name": "stdout",
     "output_type": "stream",
     "text": [
      "<MemoryView of 'ndarray' object>\n"
     ]
    },
    {
     "data": {
      "image/png": "[encoded data removed]",
      "text/plain": [
       "<Figure size 432x288 with 1 Axes>"
      ]
     },
     "metadata": {
      "needs_background": "light"
     },
     "output_type": "display_data"
    }
   ],
   "source": [
    "the_image = my_imbin(image1,200)\n",
    "print(the_image)\n",
    "plt.imshow(the_image, cmap='gray')\n",
    "plt.show()"
   ]
  },
  {
   "cell_type": "code",
   "execution_count": null,
   "metadata": {},
   "outputs": [],
   "source": [
    "%%cython\n",
    "def count_bw(long[:,:] image, int[:] contador):\n",
    "    cdef int ni, nj\n",
    "    ni = image.shape[0]\n",
    "    nj = image.shape[1]\n",
    "    for i in range(ni):\n",
    "        for j in range(nj):\n",
    "            if(image[i,j] == 0):\n",
    "                contador[0] += 1\n",
    "            else:\n",
    "                contador[1] += 1\n",
    "    return contador[0], contador[1]"
   ]
  },
  {
   "cell_type": "code",
   "execution_count": null,
   "metadata": {},
   "outputs": [],
   "source": [
    "contador = array.array('i',[0,0])\n",
    "print(count_bw(the_image, contador))"
   ]
  },
  {
   "cell_type": "code",
   "execution_count": 20,
   "metadata": {},
   "outputs": [],
   "source": [
    "%%cython \n",
    "def my_labels(long[:,:] image):\n",
    "    cdef int ni, nj\n",
    "    ni = image.shape[0]\n",
    "    nj = image.shape[1]\n",
    "    cdef int label = 1\n",
    "    cdef list revisor = [[],[]]\n",
    "    revisor[0].append(label)\n",
    "    print(revisor)\n",
    "    for i in range(ni):\n",
    "        revisor[1].append(0)\n",
    "        for j in range(nj):\n",
    "            #print(image[i,j])\n",
    "            if(image[i,j] == 0):\n",
    "                image[i,j] = label\n",
    "                revisor[1][i] += 1\n",
    "                #print(revisor)\n",
    "                #print(\"hey\")\n",
    "            else:\n",
    "                image[i,j] = 0\n",
    "        if(revisor[0][i-1] == revisor[0][i] and revisor[1][i] == 0):\n",
    "            revisor[0].append(label)\n",
    "            label += 1\n",
    "        else:\n",
    "            revisor[0].append(0)\n",
    "    print(revisor)\n",
    "    return image, label"
   ]
  },
  {
   "cell_type": "code",
   "execution_count": 21,
   "metadata": {},
   "outputs": [
    {
     "name": "stdout",
     "output_type": "stream",
     "text": [
      "[[1], []]\n",
      "[[1, 1, 0, 0, 0, 0, 0, 0, 0, 0, 0, 0, 0, 0, 0, 0, 0, 0, 0, 0, 0, 0, 0, 0, 0, 0, 0, 0, 0, 0, 0, 0, 0, 0, 0, 0, 0, 0, 0, 0, 0, 0, 0, 0, 0, 0, 0, 0, 0, 0, 0, 0, 0, 0, 0, 0, 0, 0, 0, 0, 0, 0, 0, 0, 0, 0, 0, 0, 0, 0, 0, 0, 0, 0, 0, 0, 0, 0, 0, 0, 0, 0, 0, 0, 0, 0, 0, 0, 0, 0, 0, 0, 0, 0, 0, 0, 0, 0, 0, 0, 0, 0, 0, 0, 0, 0, 0, 0, 0, 0, 0, 0, 0, 0, 0, 0, 0, 0, 0, 0, 0, 0, 0, 0, 0, 0, 0, 0, 0, 0, 0, 0, 0, 0, 0, 0, 0, 0, 0, 0, 0, 0, 0, 0, 0, 0, 0, 0, 0, 0, 0, 0, 0, 0, 0, 0, 0, 0, 0, 0, 0, 0, 0, 0, 0, 0, 0, 0, 0, 0, 0, 0, 0, 0, 0, 0, 0, 0, 0, 0, 0, 0, 0, 0, 0, 0, 0, 0, 0, 0, 0, 0, 0, 0, 0, 0, 0, 0, 0, 0, 0, 0, 0, 0, 0, 0, 0, 0, 0, 0, 0, 0, 0, 0, 0, 0, 0, 0, 0, 0, 0, 0, 0, 0, 0, 0, 0, 0, 0, 0, 0, 0, 0, 0, 0, 0, 0, 0, 0, 0, 0, 0, 0, 0, 0, 0, 0, 0, 0, 0, 0, 0, 0, 0, 0, 0, 0, 0, 0, 0, 0, 0, 0, 0, 0, 0, 0, 0, 0, 0, 0, 0, 0, 0, 0, 0, 0, 0, 0, 0, 0, 0, 0, 0, 0, 0, 0, 0, 0, 0, 0, 0, 0, 0, 0, 0, 0, 0, 0, 0, 0, 0, 0, 0, 0, 2, 0, 0, 0, 0, 0, 0, 0, 0, 0, 0, 0, 0, 0, 0, 0, 0, 0, 0, 0, 0, 0, 0, 0, 0, 0, 0, 0, 0, 0, 0, 3, 0, 0, 0, 0, 0, 0, 0, 0, 0, 0, 0, 0, 0, 0, 0, 0, 0, 0, 0, 0, 0, 0, 0, 0, 0, 0, 0, 0, 0, 0, 4, 0, 0, 5, 0, 0, 0, 0, 0, 0, 0, 0, 0, 0, 0, 0, 0, 0, 0, 0, 0, 0, 0, 0, 0, 0, 0, 0, 0, 0, 0, 0, 0, 0, 6, 0, 0, 7, 0, 0, 0, 0, 0, 0, 0, 0, 0, 0, 0, 0, 0, 0, 0, 0, 0, 0, 0, 0, 0, 0, 0, 0, 0, 0, 0, 0, 0, 0, 8, 0, 0, 9, 0, 0, 10, 0, 0, 0, 0, 0, 0, 0, 0, 0, 0, 0, 0, 0, 0, 0, 0, 0, 0, 0, 0, 0, 0, 0, 0, 0, 0, 0, 0, 0, 0, 11, 0, 0, 12, 0, 0, 13, 0, 0, 0, 0, 0, 0, 0, 0, 0, 0, 0, 0, 0, 0, 0, 0, 0, 0, 0, 0, 0, 0, 0, 0, 0, 0, 0, 0, 0, 0, 14, 0, 0, 15, 0, 0, 16, 0, 0, 17, 0, 0, 0, 0, 0, 0, 0, 0, 0, 0, 0, 0, 0, 0, 0, 0, 0, 0, 0, 0, 0, 0, 0, 0, 0, 0, 0, 0, 0, 0, 18, 0, 0, 19, 0, 0, 20, 0, 0, 21, 0, 0, 0, 0, 0, 0, 0, 0, 0, 0, 0, 0, 0, 0, 0, 0, 0, 0, 0, 0, 0, 0, 0, 0, 0, 0, 0, 0, 0, 0, 22, 0, 0, 23, 0, 0, 24, 0, 0, 25, 0, 0, 26, 0, 0, 0, 0, 0, 0, 0, 0, 0, 0, 0, 0, 0, 0, 0, 0, 0, 0, 0, 0, 0, 0, 0, 0, 0, 0, 0, 0, 0, 0, 27, 0, 0, 28, 0, 0, 29, 0, 0, 30, 0, 0, 31, 0, 0, 0, 0, 0, 0, 0, 0, 0, 0, 0, 0, 0, 0, 0, 0, 0, 0, 0, 0, 0, 0, 0, 0, 0, 0, 0, 0, 0, 0, 32, 0, 0, 33, 0, 0, 34, 0, 0, 35, 0, 0, 36, 0, 0, 37, 0, 0, 0, 0, 0, 0, 0, 0, 0, 0, 0, 0, 0, 0, 0, 0, 0, 0, 0, 0, 0, 0, 0, 0, 0, 0, 0, 0, 0, 0, 38, 0, 0, 39, 0, 0, 40, 0, 0, 41, 0, 0, 42, 0, 0, 43, 0, 0, 0, 0, 0, 0, 0, 0, 0, 0, 0, 0, 0, 0, 0, 0, 0, 0, 0, 0, 0, 0, 0, 0, 0, 0, 0, 0, 0, 0, 44, 0, 0, 45, 0, 0, 46, 0, 0, 47, 0, 0, 48, 0, 0, 49, 0, 0, 50, 0, 0, 0, 0, 0, 0, 0, 0, 0, 0, 0, 0, 0, 0, 0, 0, 0, 0, 0, 0, 0, 0, 0, 0, 0, 0, 0, 0, 0, 0, 51, 0, 0, 52, 0, 0, 53, 0, 0, 54, 0, 0, 55, 0, 0, 56, 0, 0, 57, 0, 0, 0, 0, 0, 0, 0, 0, 0, 0, 0, 0, 0, 0, 0, 0, 0, 0, 0, 0, 0, 0, 0, 0, 0, 0, 0, 0, 0, 0, 58, 0, 0, 59, 0, 0, 60, 0, 0, 61, 0, 0, 62, 0, 0, 63, 0, 0, 64, 0, 0, 65, 0, 0, 0, 0, 0, 0, 0, 0, 0, 0, 0, 0, 0, 0, 0, 0, 0, 0, 0, 0, 0, 0, 0, 0, 0, 0, 0, 0, 0, 0, 66, 0, 0, 67, 0, 0, 68, 0, 0, 69, 0, 0, 70, 0, 0, 71, 0, 0, 72, 0, 0, 73, 0, 0, 0, 0, 0, 0, 0, 0, 0, 0, 0, 0, 0, 0, 0, 0, 0, 0, 0, 0, 0, 0, 0, 0, 0, 0, 0, 0, 0, 0, 74, 0, 0, 75, 0, 0, 76, 0, 0, 77, 0, 0, 78, 0, 0, 79, 0, 0, 80, 0, 0, 81, 0, 0, 82, 0, 0, 83, 0, 0, 84, 0], [0, 8, 14, 17, 20, 22, 24, 26, 26, 28, 28, 30, 30, 30, 30, 30, 30, 30, 30, 30, 30, 30, 30, 30, 30, 30, 30, 28, 30, 30, 30, 30, 30, 30, 30, 30, 30, 28, 30, 30, 30, 30, 30, 30, 30, 30, 30, 28, 28, 28, 28, 30, 30, 30, 30, 30, 30, 30, 30, 30, 28, 28, 28, 28, 30, 30, 30, 30, 30, 30, 30, 30, 30, 28, 28, 28, 26, 26, 28, 28, 30, 30, 30, 30, 30, 30, 30, 30, 30, 28, 28, 28, 26, 26, 28, 28, 30, 30, 30, 30, 30, 30, 30, 30, 30, 28, 28, 28, 26, 24, 24, 26, 26, 28, 28, 30, 30, 30, 30, 30, 30, 30, 30, 30, 28, 28, 28, 26, 24, 24, 26, 26, 28, 28, 30, 30, 30, 30, 30, 30, 30, 30, 30, 28, 28, 28, 26, 24, 24, 22, 22, 24, 26, 26, 28, 28, 30, 30, 30, 30, 30, 30, 30, 30, 30, 28, 28, 28, 26, 24, 24, 22, 22, 24, 26, 26, 28, 28, 30, 30, 30, 30, 30, 30, 30, 30, 30, 28, 28, 28, 26, 24, 24, 22, 20, 17, 20, 22, 24, 26, 26, 28, 28, 30, 30, 30, 30, 30, 30, 30, 30, 30, 28, 28, 28, 26, 24, 24, 22, 20, 17, 20, 22, 24, 26, 26, 28, 28, 30, 30, 30, 30, 30, 30, 30, 30, 30, 28, 28, 28, 26, 24, 24, 22, 20, 17, 14, 14, 17, 20, 22, 24, 26, 26, 28, 28, 30, 30, 30, 30, 30, 30, 30, 30, 30, 28, 28, 28, 26, 24, 24, 22, 20, 17, 14, 14, 17, 20, 22, 24, 26, 26, 28, 28, 30, 30, 30, 30, 30, 30, 30, 30, 30, 28, 28, 28, 26, 24, 24, 22, 20, 17, 14, 11, 0, 8, 14, 17, 20, 22, 24, 26, 26, 28, 28, 30, 30, 30, 30, 30, 30, 30, 30, 30, 28, 28, 28, 26, 24, 24, 22, 20, 17, 14, 11, 0, 8, 14, 17, 20, 22, 24, 26, 26, 28, 28, 30, 30, 30, 30, 30, 30, 30, 30, 30, 28, 28, 28, 26, 24, 24, 22, 20, 17, 14, 11, 0, 0, 0, 0, 8, 14, 17, 20, 22, 24, 26, 26, 28, 28, 30, 30, 30, 30, 30, 30, 30, 30, 30, 28, 28, 28, 26, 24, 24, 22, 20, 17, 14, 11, 0, 0, 0, 0, 8, 14, 17, 20, 22, 24, 26, 26, 28, 28, 30, 30, 30, 30, 30, 30, 30, 30, 30, 28, 28, 28, 26, 24, 24, 22, 20, 17, 14, 11, 0, 0, 0, 0, 0, 0, 0, 8, 14, 17, 20, 22, 24, 26, 26, 28, 28, 30, 30, 30, 30, 30, 30, 30, 30, 30, 28, 28, 28, 26, 24, 24, 22, 20, 17, 14, 11, 0, 0, 0, 0, 0, 0, 0, 8, 14, 17, 20, 22, 24, 26, 26, 28, 28, 30, 30, 30, 30, 30, 30, 30, 30, 30, 28, 28, 28, 26, 24, 24, 22, 20, 17, 14, 11, 0, 0, 0, 0, 0, 0, 0, 0, 0, 0, 8, 14, 17, 20, 22, 24, 26, 26, 28, 28, 30, 30, 30, 30, 30, 30, 30, 30, 30, 28, 28, 28, 26, 24, 24, 22, 20, 17, 14, 11, 0, 0, 0, 0, 0, 0, 0, 0, 0, 0, 8, 14, 17, 20, 22, 24, 26, 26, 28, 28, 30, 30, 30, 30, 30, 30, 30, 30, 30, 28, 28, 28, 26, 24, 24, 22, 20, 17, 14, 11, 0, 0, 0, 0, 0, 0, 0, 0, 0, 0, 0, 0, 0, 8, 14, 17, 20, 22, 24, 26, 26, 28, 28, 30, 30, 30, 30, 30, 30, 30, 30, 30, 28, 28, 28, 26, 24, 24, 22, 20, 17, 14, 11, 0, 0, 0, 0, 0, 0, 0, 0, 0, 0, 0, 0, 0, 8, 14, 17, 20, 22, 24, 26, 26, 28, 28, 30, 30, 30, 30, 30, 30, 30, 30, 30, 28, 28, 28, 26, 24, 24, 22, 20, 17, 14, 11, 0, 0, 0, 0, 0, 0, 0, 0, 0, 0, 0, 0, 0, 0, 0, 0, 8, 14, 17, 20, 22, 24, 26, 26, 28, 28, 30, 30, 30, 30, 30, 30, 30, 30, 30, 28, 28, 28, 26, 24, 24, 22, 20, 17, 14, 11, 0, 0, 0, 0, 0, 0, 0, 0, 0, 0, 0, 0, 0, 0, 0, 0, 8, 14, 17, 20, 22, 24, 26, 26, 28, 28, 30, 30, 30, 30, 30, 30, 30, 30, 30, 28, 28, 28, 26, 24, 24, 22, 20, 17, 14, 11, 0, 0, 0, 0, 0, 0, 0, 0, 0, 0, 0, 0, 0, 0, 0, 0, 0, 0, 0, 8, 14, 17, 20, 22, 24, 26, 26, 28, 28, 30, 30, 30, 30, 30, 30, 30, 30, 30, 28, 28, 28, 26, 24, 24, 22, 20, 17, 14, 11, 0, 0, 0, 0, 0, 0, 0, 0, 0, 0, 0, 0, 0, 0, 0, 0, 0, 0, 0, 8, 14, 17, 20, 22, 24, 26, 26, 28, 28, 30, 30, 30, 30, 30, 30, 30, 30, 30, 28, 28, 28, 26, 24, 24, 22, 20, 17, 14, 11, 0, 0, 0, 0, 0, 0, 0, 0, 0, 0, 0, 0, 0, 0, 0, 0, 0, 0, 0, 0, 0, 0, 8, 14, 17, 20, 22, 24, 26, 26, 28, 28, 30, 30, 30, 30, 30, 30, 30, 30, 30, 28, 28, 28, 26, 24, 24, 22, 20, 17, 14, 11, 0, 0, 0, 0, 0, 0, 0, 0, 0, 0, 0, 0, 0, 0, 0, 0, 0, 0, 0, 0, 0, 0, 8, 14, 17, 20, 22, 24, 26, 26, 28, 28, 30, 30, 30, 30, 30, 30, 30, 30, 30, 28, 28, 28, 26, 24, 24, 22, 20, 17, 14, 11, 0, 0, 0, 0, 0, 0, 0, 0, 0, 0, 0, 0, 0, 0, 0, 0, 0, 0, 0, 0, 0, 0, 0, 0, 0, 0, 0, 0, 0, 0, 0, 0]]\n",
      "85\n"
     ]
    },
    {
     "data": {
      "image/png": "[encoded data removed]",
      "text/plain": [
       "<Figure size 432x288 with 2 Axes>"
      ]
     },
     "metadata": {
      "needs_background": "light"
     },
     "output_type": "display_data"
    },
    {
     "name": "stdout",
     "output_type": "stream",
     "text": [
      "\n"
     ]
    }
   ],
   "source": [
    "image2, number = my_labels(the_image)\n",
    "print(number)\n",
    "plt.imshow(image2)\n",
    "plt.colorbar()\n",
    "plt.show()\n",
    "print()"
   ]
  },
  {
   "cell_type": "code",
   "execution_count": 22,
   "metadata": {},
   "outputs": [
    {
     "name": "stdout",
     "output_type": "stream",
     "text": [
      "<MemoryView of '_memoryviewslice' object>\n"
     ]
    }
   ],
   "source": [
    "print(image2)"
   ]
  },
  {
   "cell_type": "code",
   "execution_count": null,
   "metadata": {},
   "outputs": [],
   "source": []
  }
 ],
 "metadata": {
  "kernelspec": {
   "display_name": "Python 3",
   "language": "python",
   "name": "python3"
  },
  "language_info": {
   "codemirror_mode": {
    "name": "ipython",
    "version": 3
   },
   "file_extension": ".py",
   "mimetype": "text/x-python",
   "name": "python",
   "nbconvert_exporter": "python",
   "pygments_lexer": "ipython3",
   "version": "3.6.6"
  }
 },
 "nbformat": 4,
 "nbformat_minor": 2
}
